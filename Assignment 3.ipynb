{
 "cells": [
  {
   "cell_type": "code",
   "execution_count": 16,
   "id": "7c22c286",
   "metadata": {},
   "outputs": [
    {
     "name": "stdout",
     "output_type": "stream",
     "text": [
      "Twinkle,twinkle,little star,\n",
      "\tHow I Wonder what you are!\n",
      "\t\tUp Above the world so high,\n",
      "\t\tLike a diamond in the sky.\n",
      "Twinkle,twinkle,little star,\n",
      "\tHow I Wonder what you are!\n"
     ]
    }
   ],
   "source": [
    "print(\"Twinkle,twinkle,little star,\\n\\tHow I Wonder what you are!\");\n",
    "print(\"\\t\\tUp Above the world so high,\\n\\t\\tLike a diamond in the sky.\");\n",
    "print(\"Twinkle,twinkle,little star,\\n\\tHow I Wonder what you are!\");"
   ]
  },
  {
   "cell_type": "code",
   "execution_count": 17,
   "id": "fc172a76",
   "metadata": {},
   "outputs": [
    {
     "name": "stdout",
     "output_type": "stream",
     "text": [
      "3.8.8\n"
     ]
    }
   ],
   "source": [
    "import platform\n",
    "print(platform.python_version());"
   ]
  },
  {
   "cell_type": "code",
   "execution_count": 18,
   "id": "b2527073",
   "metadata": {},
   "outputs": [
    {
     "name": "stdout",
     "output_type": "stream",
     "text": [
      "Current date and time: \n",
      "2021-10-24 11:13:29.479234\n"
     ]
    }
   ],
   "source": [
    "import datetime\n",
    "now = datetime.datetime.now();\n",
    "print(\"Current date and time: \");\n",
    "print(str(now));"
   ]
  },
  {
   "cell_type": "code",
   "execution_count": 19,
   "id": "70816f3a",
   "metadata": {},
   "outputs": [
    {
     "name": "stdout",
     "output_type": "stream",
     "text": [
      "Enter the radius of the Circle:7\n",
      "Area of the Circel is : %.2f  153.86\n"
     ]
    }
   ],
   "source": [
    "pi = 3.14;\n",
    "r = float(input(\"Enter the radius of the Circle:\"));\n",
    "area = pi * r * r;\n",
    "print(\"Area of the Circel is : %.2f \",area);"
   ]
  },
  {
   "cell_type": "code",
   "execution_count": 20,
   "id": "61e7b84a",
   "metadata": {},
   "outputs": [
    {
     "name": "stdout",
     "output_type": "stream",
     "text": [
      "Enter First Name: Subhan\n",
      "Enter Last Name: Ahmed\n",
      " Ahmed Subhan\n"
     ]
    }
   ],
   "source": [
    "Fname = input(\"Enter First Name: \");\n",
    "Lname = input(\"Enter Last Name: \");\n",
    "print(\" \" + Lname+\" \"+ Fname);"
   ]
  },
  {
   "cell_type": "code",
   "execution_count": 21,
   "id": "b32ba5bc",
   "metadata": {},
   "outputs": [
    {
     "name": "stdout",
     "output_type": "stream",
     "text": [
      "Enter First Number : 23\n",
      "Enter First Number : 7\n",
      "30\n"
     ]
    }
   ],
   "source": [
    "a = int(input(\"Enter First Number : \"));\n",
    "b = int(input(\"Enter First Number : \"));\n",
    "c = a + b;\n",
    "print(c);"
   ]
  },
  {
   "cell_type": "code",
   "execution_count": 22,
   "id": "a4dc38c1",
   "metadata": {},
   "outputs": [
    {
     "name": "stdout",
     "output_type": "stream",
     "text": [
      "Enter English Marks : 57\n",
      "Enter Maths Marks : 91\n",
      "Enter Physics Marks : 69\n",
      "Enter Computer Marks : 93\n",
      "Enter Chemistry Marks : 74\n",
      "Obtained Marks is :  384\n",
      "Percentage Is :  76.8\n",
      "A\n"
     ]
    }
   ],
   "source": [
    "eng = int(input(\"Enter English Marks : \"));\n",
    "math = int(input(\"Enter Maths Marks : \"));\n",
    "phy = int(input(\"Enter Physics Marks : \"));\n",
    "cmp = int(input(\"Enter Computer Marks : \"));\n",
    "chm = int(input(\"Enter Chemistry Marks : \"));\n",
    "#TotalMarks\n",
    "tm = 500;\n",
    "#ObtainedMarks\n",
    "om = eng + math + phy + cmp + chm;\n",
    "print(\"Obtained Marks is : \",om);\n",
    "percent = om/tm*100;\n",
    "print(\"Percentage Is : \",percent);\n",
    "if percent < 100 and percent >=80:\n",
    "    print(\"A+\");\n",
    "elif percent < 80 and percent >=70:\n",
    "    print(\"A\");\n",
    "elif percent < 70 and percent >=60:\n",
    "    print(\"B\");\n",
    "elif percent < 60 and percent >=50:\n",
    "    print(\"C\");\n",
    "elif percent < 50 and percent >=40:\n",
    "    print(\"D\");\n",
    "elif percent < 40 and percent >=33:\n",
    "    print(\"E\");\n",
    "elif percent < 0 and percent >=100:\n",
    "    print(\"You did not write correct number : \");\n",
    "else:\n",
    "    print(\"Fail\");"
   ]
  },
  {
   "cell_type": "code",
   "execution_count": 24,
   "id": "06651202",
   "metadata": {},
   "outputs": [
    {
     "name": "stdout",
     "output_type": "stream",
     "text": [
      "Enter the Number : 58\n",
      "Number is even\n"
     ]
    }
   ],
   "source": [
    "num = int(input(\"Enter the Number : \"));\n",
    "if (num%2) == 0:\n",
    "    print(\"Number is even\");\n",
    "else:\n",
    "    print(\"Number is odd\");"
   ]
  },
  {
   "cell_type": "code",
   "execution_count": 25,
   "id": "221417f3",
   "metadata": {},
   "outputs": [
    {
     "name": "stdout",
     "output_type": "stream",
     "text": [
      "Length of the list is :  6\n"
     ]
    }
   ],
   "source": [
    "list = [1,5,88,\"Subhan\",\"ALi\",48];\n",
    "print(\"Length of the list is : \",len(list));"
   ]
  },
  {
   "cell_type": "code",
   "execution_count": 1,
   "id": "a6432b14",
   "metadata": {},
   "outputs": [
    {
     "name": "stdout",
     "output_type": "stream",
     "text": [
      "177\n"
     ]
    }
   ],
   "source": [
    "a = [1,4,7,45,3,17,84,16];\n",
    "total = sum(a);\n",
    "print(total);"
   ]
  },
  {
   "cell_type": "code",
   "execution_count": 57,
   "id": "3a58037a",
   "metadata": {},
   "outputs": [
    {
     "name": "stdout",
     "output_type": "stream",
     "text": [
      "Largest Number is :  184\n"
     ]
    }
   ],
   "source": [
    "li = [70, 16, 184, 108, 76];\n",
    "print(\"Largest Number is : \",max(li));"
   ]
  },
  {
   "cell_type": "code",
   "execution_count": 55,
   "id": "545f7018",
   "metadata": {},
   "outputs": [
    {
     "name": "stdout",
     "output_type": "stream",
     "text": [
      "1\n",
      "1\n",
      "2\n",
      "3\n"
     ]
    }
   ],
   "source": [
    "a = [1,1,2,3,5,8,13,21,34,55,89]\n",
    "for item in a:\n",
    "    if item < 5:\n",
    "        print(item);"
   ]
  },
  {
   "cell_type": "code",
   "execution_count": null,
   "id": "f5b84328",
   "metadata": {},
   "outputs": [],
   "source": []
  }
 ],
 "metadata": {
  "kernelspec": {
   "display_name": "Python 3",
   "language": "python",
   "name": "python3"
  },
  "language_info": {
   "codemirror_mode": {
    "name": "ipython",
    "version": 3
   },
   "file_extension": ".py",
   "mimetype": "text/x-python",
   "name": "python",
   "nbconvert_exporter": "python",
   "pygments_lexer": "ipython3",
   "version": "3.8.8"
  }
 },
 "nbformat": 4,
 "nbformat_minor": 5
}
